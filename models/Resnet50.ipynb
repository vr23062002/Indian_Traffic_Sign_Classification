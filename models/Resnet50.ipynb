{
 "cells": [
  {
   "cell_type": "code",
   "execution_count": null,
   "id": "44821c46",
   "metadata": {},
   "outputs": [],
   "source": [
    "import os\n",
    "import numpy as np\n",
    "import matplotlib.pyplot as plt\n",
    "import tensorflow as tf\n",
    "from tensorflow.keras.preprocessing.image import ImageDataGenerator\n",
    "from tensorflow.keras.applications import ResNet50\n",
    "from tensorflow.keras.layers import Dense, GlobalAveragePooling2D, Dropout, BatchNormalization\n",
    "from tensorflow.keras.models import Model\n",
    "from tensorflow.keras.optimizers import Adam\n",
    "from tensorflow.keras.callbacks import EarlyStopping\n",
    "from sklearn.metrics import classification_report"
   ]
  },
  {
   "cell_type": "code",
   "execution_count": 2,
   "id": "4a9b0f56",
   "metadata": {},
   "outputs": [
    {
     "ename": "SyntaxError",
     "evalue": "invalid syntax (3110722330.py, line 1)",
     "output_type": "error",
     "traceback": [
      "\u001b[1;36m  Input \u001b[1;32mIn [2]\u001b[1;36m\u001b[0m\n\u001b[1;33m    ```bash\u001b[0m\n\u001b[1;37m    ^\u001b[0m\n\u001b[1;31mSyntaxError\u001b[0m\u001b[1;31m:\u001b[0m invalid syntax\n"
     ]
    }
   ],
   "source": [
    "```bash\n",
    "   python dataset_prep.py"
   ]
  },
  {
   "cell_type": "code",
   "execution_count": null,
   "id": "0966f962",
   "metadata": {},
   "outputs": [],
   "source": [
    "IMG_HEIGHT = 64\n",
    "IMG_WIDTH = 64\n",
    "BATCH_SIZE = 32\n",
    "EPOCHS = 30\n",
    "NUM_CLASSES = 59\n",
    "DATA_DIR = \"data_split\""
   ]
  },
  {
   "cell_type": "code",
   "execution_count": null,
   "id": "eb81413a",
   "metadata": {},
   "outputs": [],
   "source": [
    "def prepare_data():\n",
    "    train_gen = ImageDataGenerator(rescale=1./255,\n",
    "                                   shear_range=0.2,\n",
    "                                   zoom_range=0.2,\n",
    "                                   horizontal_flip=True)\n",
    "\n",
    "    val_test_gen = ImageDataGenerator(rescale=1./255)\n",
    "\n",
    "    train_set = train_gen.flow_from_directory(\n",
    "        os.path.join(DATA_DIR, \"train\"),\n",
    "        target_size=(IMG_HEIGHT, IMG_WIDTH),\n",
    "        batch_size=BATCH_SIZE,\n",
    "        class_mode=\"categorical\"\n",
    "    )\n",
    "\n",
    "    val_set = val_test_gen.flow_from_directory(\n",
    "        os.path.join(DATA_DIR, \"val\"),\n",
    "        target_size=(IMG_HEIGHT, IMG_WIDTH),\n",
    "        batch_size=BATCH_SIZE,\n",
    "        class_mode=\"categorical\"\n",
    "    )\n",
    "\n",
    "    test_set = val_test_gen.flow_from_directory(\n",
    "        os.path.join(DATA_DIR, \"test\"),\n",
    "        target_size=(IMG_HEIGHT, IMG_WIDTH),\n",
    "        batch_size=BATCH_SIZE,\n",
    "        class_mode=\"categorical\",\n",
    "        shuffle=False\n",
    "    )\n",
    "\n",
    "    return train_set, val_set, test_set"
   ]
  },
  {
   "cell_type": "code",
   "execution_count": null,
   "id": "9747bf52",
   "metadata": {},
   "outputs": [],
   "source": [
    "def build_resnet(num_classes):\n",
    "    base_model = ResNet50(weights=\"imagenet\", include_top=False,\n",
    "                          input_shape=(IMG_HEIGHT, IMG_WIDTH, 3))\n",
    "\n",
    "    for layer in base_model.layers:\n",
    "        layer.trainable = False\n",
    "\n",
    "    x = base_model.output\n",
    "    x = GlobalAveragePooling2D()(x)\n",
    "    x = Dense(512, activation=\"relu\")(x)\n",
    "    x = BatchNormalization()(x)\n",
    "    x = Dropout(0.2)(x)\n",
    "    output = Dense(num_classes, activation=\"softmax\")(x)\n",
    "\n",
    "    model = Model(inputs=base_model.input, outputs=output)\n",
    "    model.compile(optimizer=Adam(learning_rate=1e-4),\n",
    "                  loss=\"categorical_crossentropy\",\n",
    "                  metrics=[\"accuracy\"])\n",
    "    return model"
   ]
  },
  {
   "cell_type": "code",
   "execution_count": null,
   "id": "565ad88e",
   "metadata": {},
   "outputs": [],
   "source": [
    "def plot_history(history):\n",
    "    plt.figure(figsize=(10, 6))\n",
    "    plt.plot(history.history[\"loss\"], label=\"Training Loss\")\n",
    "    plt.plot(history.history[\"val_loss\"], label=\"Validation Loss\")\n",
    "    plt.title(\"Training and Validation Loss\")\n",
    "    plt.xlabel(\"Epochs\")\n",
    "    plt.ylabel(\"Loss\")\n",
    "    plt.legend()\n",
    "    plt.grid()\n",
    "    plt.show()"
   ]
  },
  {
   "cell_type": "code",
   "execution_count": null,
   "id": "33a8108e",
   "metadata": {},
   "outputs": [],
   "source": [
    "def main():\n",
    "    train_set, val_set, test_set = prepare_data()\n",
    "    model = build_resnet(NUM_CLASSES)\n",
    "\n",
    "    early_stop = EarlyStopping(monitor=\"val_loss\", patience=5, restore_best_weights=True)\n",
    "\n",
    "    history = model.fit(train_set,\n",
    "                        validation_data=val_set,\n",
    "                        epochs=EPOCHS,\n",
    "                        callbacks=[early_stop])"
   ]
  },
  {
   "cell_type": "code",
   "execution_count": null,
   "id": "08e75884",
   "metadata": {},
   "outputs": [],
   "source": [
    " test_loss, test_accuracy = model.evaluate(test_set)\n",
    "    print(f\"Test accuracy: {test_accuracy:.2f}\")\n",
    "\n",
    "    # Classification report\n",
    "    y_true = test_set.classes\n",
    "    y_pred = np.argmax(model.predict(test_set), axis=1)\n",
    "    print(classification_report(y_true, y_pred, target_names=list(test_set.class_indices.keys())))\n",
    "\n",
    "    # Save model\n",
    "    # model.save(\"resnet50_model.keras\")\n",
    "\n",
    "    # Plot training curves\n",
    "    plot_history(history)\n",
    "\n",
    "\n",
    "if __name__ == \"__main__\":\n",
    "    main()"
   ]
  }
 ],
 "metadata": {
  "kernelspec": {
   "display_name": "Python 3 (ipykernel)",
   "language": "python",
   "name": "python3"
  },
  "language_info": {
   "codemirror_mode": {
    "name": "ipython",
    "version": 3
   },
   "file_extension": ".py",
   "mimetype": "text/x-python",
   "name": "python",
   "nbconvert_exporter": "python",
   "pygments_lexer": "ipython3",
   "version": "3.9.12"
  }
 },
 "nbformat": 4,
 "nbformat_minor": 5
}
